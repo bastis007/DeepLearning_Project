{
  "cells": [
    {
      "cell_type": "markdown",
      "metadata": {
        "id": "3KlsWlLqiWih"
      },
      "source": [
        "# Pre-Processing Pipeline\n",
        "\n",
        "**Author:** Felipe Cortes Jaramillo\n",
        "\n",
        "**Description:** Pre-processing pipeline for text translation.\n",
        "\n",
        "**References:** https://github.com/tommytracey/AIND-Capstone/blob/master/machine_translation.ipynb"
      ]
    },
    {
      "cell_type": "markdown",
      "metadata": {
        "id": "KO5vkfQLo4ZD"
      },
      "source": [
        "## Installing Packages and Downloading Data:"
      ]
    },
    {
      "cell_type": "code",
      "execution_count": 1,
      "metadata": {
        "colab": {
          "base_uri": "https://localhost:8080/"
        },
        "id": "xY0tW5-RfibX",
        "outputId": "355c76c2-85b3-41da-a5f5-b40c402dfe63"
      },
      "outputs": [],
      "source": [
        "# Install Hugging Face Library for Datasets\n",
        "!pip install datasets pandas nltk clean-text"
      ]
    },
    {
      "cell_type": "code",
      "execution_count": 2,
      "metadata": {
        "id": "0Yi1ZQkSgSF5"
      },
      "outputs": [
        {
          "name": "stderr",
          "output_type": "stream",
          "text": [
            "c:\\Users\\pacho\\miniconda3\\envs\\tf-dl\\lib\\site-packages\\tqdm\\auto.py:21: TqdmWarning: IProgress not found. Please update jupyter and ipywidgets. See https://ipywidgets.readthedocs.io/en/stable/user_install.html\n",
            "  from .autonotebook import tqdm as notebook_tqdm\n",
            "Since the GPL-licensed package `unidecode` is not installed, using Python's `unicodedata` package which yields worse results.\n"
          ]
        }
      ],
      "source": [
        "# Import needed libraries\n",
        "import pandas as pd\n",
        "import numpy as np\n",
        "from datasets import load_dataset\n",
        "\n",
        "import nltk\n",
        "from cleantext import clean\n",
        "from nltk.tokenize import word_tokenize\n",
        "\n",
        "import tensorflow as tf\n",
        "from keras.models import Sequential, Model\n",
        "from keras.layers import Embedding, SimpleRNN, Dense, GRU, LSTM, Bidirectional, Dropout, Input, Dense\n",
        "from keras.preprocessing.text import Tokenizer\n",
        "from keras_preprocessing.sequence import pad_sequences\n",
        "#from sklearn.model_selection import train_test_split"
      ]
    },
    {
      "cell_type": "code",
      "execution_count": 3,
      "metadata": {},
      "outputs": [
        {
          "name": "stdout",
          "output_type": "stream",
          "text": [
            "Using GPU: PhysicalDevice(name='/physical_device:GPU:0', device_type='GPU')\n"
          ]
        }
      ],
      "source": [
        "# Check if TensorFlow is able to detect the GPU\n",
        "gpus = tf.config.experimental.list_physical_devices('GPU')\n",
        "if gpus:\n",
        "    try:\n",
        "        # Set TensorFlow to use only one GPU\n",
        "        tf.config.experimental.set_visible_devices(gpus[0], 'GPU')\n",
        "\n",
        "        # Enable memory growth\n",
        "        tf.config.experimental.set_memory_growth(gpus[0], True)\n",
        "\n",
        "        print(\"Using GPU:\", gpus[0])\n",
        "    except RuntimeError as e:\n",
        "        # Memory growth must be set at program startup\n",
        "        print(\"RuntimeError:\", e)\n",
        "else:\n",
        "    raise SystemError(\"GPU device not found\")"
      ]
    },
    {
      "cell_type": "code",
      "execution_count": 4,
      "metadata": {
        "colab": {
          "base_uri": "https://localhost:8080/",
          "height": 206
        },
        "id": "oK5js_c4gidk",
        "outputId": "edf107e2-384c-4ce4-a97f-7bffaa9b8ade"
      },
      "outputs": [
        {
          "data": {
            "text/html": [
              "<div>\n",
              "<style scoped>\n",
              "    .dataframe tbody tr th:only-of-type {\n",
              "        vertical-align: middle;\n",
              "    }\n",
              "\n",
              "    .dataframe tbody tr th {\n",
              "        vertical-align: top;\n",
              "    }\n",
              "\n",
              "    .dataframe thead th {\n",
              "        text-align: right;\n",
              "    }\n",
              "</style>\n",
              "<table border=\"1\" class=\"dataframe\">\n",
              "  <thead>\n",
              "    <tr style=\"text-align: right;\">\n",
              "      <th></th>\n",
              "      <th>en</th>\n",
              "      <th>fr</th>\n",
              "    </tr>\n",
              "  </thead>\n",
              "  <tbody>\n",
              "    <tr>\n",
              "      <th>0</th>\n",
              "      <td>Jamaica: “I am HIV”</td>\n",
              "      <td>Jamaïque : J’ai le VIH</td>\n",
              "    </tr>\n",
              "    <tr>\n",
              "      <th>1</th>\n",
              "      <td>It's widely acknowledged, in the Caribbean and...</td>\n",
              "      <td>Il est largement reconnu, dans les Caraïbes et...</td>\n",
              "    </tr>\n",
              "    <tr>\n",
              "      <th>2</th>\n",
              "      <td>For this woman, however, photographed in the s...</td>\n",
              "      <td>Pour cette femme, cependant, photographiée dan...</td>\n",
              "    </tr>\n",
              "    <tr>\n",
              "      <th>3</th>\n",
              "      <td>As Bacon writes on her blog:</td>\n",
              "      <td>Comme Bacon écrit sur son blog:</td>\n",
              "    </tr>\n",
              "    <tr>\n",
              "      <th>4</th>\n",
              "      <td>“When I asked to take her picture, I suggested...</td>\n",
              "      <td>“Quand je lui ai demandé de la prendre en phot...</td>\n",
              "    </tr>\n",
              "  </tbody>\n",
              "</table>\n",
              "</div>"
            ],
            "text/plain": [
              "                                                  en  \\\n",
              "0                                Jamaica: “I am HIV”   \n",
              "1  It's widely acknowledged, in the Caribbean and...   \n",
              "2  For this woman, however, photographed in the s...   \n",
              "3                       As Bacon writes on her blog:   \n",
              "4  “When I asked to take her picture, I suggested...   \n",
              "\n",
              "                                                  fr  \n",
              "0                             Jamaïque : J’ai le VIH  \n",
              "1  Il est largement reconnu, dans les Caraïbes et...  \n",
              "2  Pour cette femme, cependant, photographiée dan...  \n",
              "3                    Comme Bacon écrit sur son blog:  \n",
              "4  “Quand je lui ai demandé de la prendre en phot...  "
            ]
          },
          "execution_count": 4,
          "metadata": {},
          "output_type": "execute_result"
        }
      ],
      "source": [
        "# Extract dataset\n",
        "translation_dataset = load_dataset('Nicolas-BZRD/Parallel_Global_Voices_English_French',\n",
        "                                   split='train').to_pandas()\n",
        "translation_dataset.head(5)"
      ]
    },
    {
      "cell_type": "code",
      "execution_count": 5,
      "metadata": {
        "id": "Q1JjGsN5Ym3P"
      },
      "outputs": [],
      "source": [
        "# Remove line when finishied (OPTIONAL)\n",
        "\n",
        "df = translation_dataset.head(8060)"
      ]
    },
    {
      "cell_type": "markdown",
      "metadata": {
        "id": "f0A33mW3pEPH"
      },
      "source": [
        "## Data Pre-processing:"
      ]
    },
    {
      "cell_type": "code",
      "execution_count": 6,
      "metadata": {
        "colab": {
          "base_uri": "https://localhost:8080/"
        },
        "id": "V1VsvJZgWW9P",
        "outputId": "a1a1828b-79dd-44a3-fbe6-9d3de62d9a9c"
      },
      "outputs": [
        {
          "name": "stderr",
          "output_type": "stream",
          "text": [
            "[nltk_data] Downloading package punkt to\n",
            "[nltk_data]     C:\\Users\\pacho\\AppData\\Roaming\\nltk_data...\n",
            "[nltk_data]   Package punkt is already up-to-date!\n",
            "C:\\Users\\pacho\\AppData\\Local\\Temp\\ipykernel_24056\\2695840912.py:30: SettingWithCopyWarning: \n",
            "A value is trying to be set on a copy of a slice from a DataFrame.\n",
            "Try using .loc[row_indexer,col_indexer] = value instead\n",
            "\n",
            "See the caveats in the documentation: https://pandas.pydata.org/pandas-docs/stable/user_guide/indexing.html#returning-a-view-versus-a-copy\n",
            "  df['en'] = df['en'].apply(clean_text)\n",
            "C:\\Users\\pacho\\AppData\\Local\\Temp\\ipykernel_24056\\2695840912.py:31: SettingWithCopyWarning: \n",
            "A value is trying to be set on a copy of a slice from a DataFrame.\n",
            "Try using .loc[row_indexer,col_indexer] = value instead\n",
            "\n",
            "See the caveats in the documentation: https://pandas.pydata.org/pandas-docs/stable/user_guide/indexing.html#returning-a-view-versus-a-copy\n",
            "  df['fr'] = df['fr'].apply(clean_text)\n",
            "C:\\Users\\pacho\\AppData\\Local\\Temp\\ipykernel_24056\\2695840912.py:34: SettingWithCopyWarning: \n",
            "A value is trying to be set on a copy of a slice from a DataFrame.\n",
            "Try using .loc[row_indexer,col_indexer] = value instead\n",
            "\n",
            "See the caveats in the documentation: https://pandas.pydata.org/pandas-docs/stable/user_guide/indexing.html#returning-a-view-versus-a-copy\n",
            "  df['en_tokens'] = df['en'].apply(word_tokenize)\n",
            "C:\\Users\\pacho\\AppData\\Local\\Temp\\ipykernel_24056\\2695840912.py:35: SettingWithCopyWarning: \n",
            "A value is trying to be set on a copy of a slice from a DataFrame.\n",
            "Try using .loc[row_indexer,col_indexer] = value instead\n",
            "\n",
            "See the caveats in the documentation: https://pandas.pydata.org/pandas-docs/stable/user_guide/indexing.html#returning-a-view-versus-a-copy\n",
            "  df['fr_tokens'] = df['fr'].apply(word_tokenize)\n",
            "C:\\Users\\pacho\\AppData\\Local\\Temp\\ipykernel_24056\\2695840912.py:38: SettingWithCopyWarning: \n",
            "A value is trying to be set on a copy of a slice from a DataFrame\n",
            "\n",
            "See the caveats in the documentation: https://pandas.pydata.org/pandas-docs/stable/user_guide/indexing.html#returning-a-view-versus-a-copy\n",
            "  df.dropna(subset=['en', 'fr'], inplace=True)\n"
          ]
        }
      ],
      "source": [
        "# First step - Data Pre-processing\n",
        "\n",
        "# nltk downloads\n",
        "nltk.download('punkt')\n",
        "\n",
        "# Define a cleaning function\n",
        "def clean_text(text):\n",
        "    return clean(text,\n",
        "                 fix_unicode=True,               # fix various unicode errors\n",
        "                 to_ascii=True,                  # transliterate to closest ASCII representation\n",
        "                 lower=True,                     # lowercase text\n",
        "                 no_line_breaks=False,           # fully strip line breaks as opposed to only normalizing them\n",
        "                 no_urls=True,                   # replace all URLs with a special token\n",
        "                 no_emails=True,                 # replace all email addresses with a special token\n",
        "                 no_phone_numbers=True,          # replace all phone numbers with a special token\n",
        "                 no_numbers=False,               # replace all numbers with a special token\n",
        "                 no_digits=False,                # replace all digits with a special token\n",
        "                 no_currency_symbols=True,       # replace all currency symbols with a special token\n",
        "                 no_punct=True,                  # remove punctuations\n",
        "                 replace_with_punct=\"\",          # replace punctuations with this character\n",
        "                 replace_with_url=\"<URL>\",\n",
        "                 replace_with_email=\"<EMAIL>\",\n",
        "                 replace_with_phone_number=\"<PHONE>\",\n",
        "                 replace_with_number=\"<NUMBER>\",\n",
        "                 replace_with_digit=\"<DIGIT>\",\n",
        "                 replace_with_currency_symbol=\"<CUR>\",\n",
        "                 lang=\"en\")\n",
        "\n",
        "# Apply cleaning function to both English and French columns\n",
        "df['en'] = df['en'].apply(clean_text)\n",
        "df['fr'] = df['fr'].apply(clean_text)\n",
        "\n",
        "# Tokenization\n",
        "df['en_tokens'] = df['en'].apply(word_tokenize)\n",
        "df['fr_tokens'] = df['fr'].apply(word_tokenize)\n",
        "\n",
        "# Handling missing data\n",
        "df.dropna(subset=['en', 'fr'], inplace=True)\n",
        "\n",
        "# Save the preprocessed data\n",
        "df.to_csv('preprocessed_data.csv', index=False)"
      ]
    },
    {
      "cell_type": "code",
      "execution_count": 7,
      "metadata": {
        "id": "dknJrE0jY49t"
      },
      "outputs": [],
      "source": [
        "# Second step - Data Transformation for Training\n",
        "\n",
        "# Tokenization\n",
        "tokenizer_en = Tokenizer()\n",
        "tokenizer_en.fit_on_texts(df['en_tokens'])\n",
        "tokenizer_fr = Tokenizer()\n",
        "tokenizer_fr.fit_on_texts(df['fr_tokens'])\n",
        "\n",
        "# Convert text to sequences\n",
        "sequences_en = tokenizer_en.texts_to_sequences(df['en_tokens'])\n",
        "sequences_fr = tokenizer_fr.texts_to_sequences(df['fr_tokens'])\n",
        "\n",
        "# Padding sequences\n",
        "max_len = max(max(len(s) for s in sequences_en), max(len(s) for s in sequences_fr))\n",
        "sequences_en = pad_sequences(sequences_en, maxlen=max_len, padding='post')\n",
        "sequences_fr = pad_sequences(sequences_fr, maxlen=max_len, padding='post')\n",
        "\n",
        "# Splitting the data\n",
        "split = int(len(sequences_en) * 0.8)\n",
        "trainX, testX = sequences_en[:split], sequences_en[split:]\n",
        "trainY, testY = sequences_fr[:split], sequences_fr[split:]\n"
      ]
    },
    {
      "cell_type": "code",
      "execution_count": 8,
      "metadata": {
        "id": "kseUIUXIb45Y"
      },
      "outputs": [],
      "source": [
        "# Third step - Reshape data for feeding into model (French words)\n",
        "trainY = trainY.reshape(trainY.shape[0], trainY.shape[1], 1)\n",
        "testY = testY.reshape(testY.shape[0], testY.shape[1], 1)"
      ]
    },
    {
      "cell_type": "code",
      "execution_count": 9,
      "metadata": {
        "id": "5ANTSUdAl1_5"
      },
      "outputs": [
        {
          "name": "stdout",
          "output_type": "stream",
          "text": [
            "<--- Data Preprocessed Summary: --->\n",
            "Max English sentence length: 121\n",
            "Max French sentence length: 121\n",
            "English vocabulary size: 16619\n",
            "French vocabulary size: 20767\n"
          ]
        }
      ],
      "source": [
        "# Fourth Step - Some relevant information after pre-processing and transforming\n",
        "max_english_sequence_length = sequences_en.shape[1]\n",
        "max_french_sequence_length = sequences_fr.shape[1]\n",
        "english_vocab_size = len(tokenizer_en.word_index)\n",
        "french_vocab_size = len(tokenizer_fr.word_index)\n",
        "\n",
        "print('<--- Data Preprocessed Summary: --->')\n",
        "print(\"Max English sentence length:\", max_english_sequence_length)\n",
        "print(\"Max French sentence length:\", max_french_sequence_length)\n",
        "print(\"English vocabulary size:\", english_vocab_size)\n",
        "print(\"French vocabulary size:\", french_vocab_size)"
      ]
    },
    {
      "cell_type": "markdown",
      "metadata": {
        "id": "E2QXSWTSi854"
      },
      "source": [
        "----------------------------------------------------------"
      ]
    },
    {
      "cell_type": "code",
      "execution_count": 14,
      "metadata": {
        "id": "dQ1U5Y68eWdW"
      },
      "outputs": [],
      "source": [
        "# Testing Module - Models\n",
        "\n",
        "def translate_sequence(seq, tokenizer):\n",
        "    \"\"\" Translates a sequence of integers back into text using the tokenizer. \"\"\"\n",
        "    words = [tokenizer.index_word.get(idx, '') for idx in seq]\n",
        "    return ' '.join(words).strip()\n",
        "\n",
        "def predict_and_compare(index, testX, model, tokenizer_en, tokenizer_fr):\n",
        "    \"\"\" Predicts translation for a given index in the test set and compares with the ground truth. \"\"\"\n",
        "    input_seq = testX[index:index+1]\n",
        "    prediction = model.predict(input_seq)\n",
        "\n",
        "    # Converting the prediction to a sequence of integers\n",
        "    predicted_seq = np.argmax(prediction, axis=-1)[0]\n",
        "\n",
        "    # Reverse tokenization (converting sequences back to words)\n",
        "    input_text = translate_sequence(input_seq[0], tokenizer_en)\n",
        "    predicted_text = translate_sequence(predicted_seq, tokenizer_fr)\n",
        "    ground_truth_text = translate_sequence(testY[index].flatten(), tokenizer_fr)\n",
        "\n",
        "    print(\"Input (English):\", input_text)\n",
        "    print(\"Predicted (French):\", predicted_text)\n",
        "    print(\"Ground Truth (French):\", ground_truth_text)"
      ]
    },
    {
      "cell_type": "code",
      "execution_count": 40,
      "metadata": {
        "id": "IiyExGsibDRF"
      },
      "outputs": [],
      "source": [
        "# Model Section - First Model RNN\n",
        "\n",
        "def simple_rnn(tokenizer_en, tokenizer_fr):\n",
        "\n",
        "  # Define structure of the model\n",
        "  model = Sequential()\n",
        "  model.add(Embedding(input_dim=len(tokenizer_en.word_index) + 1, output_dim=64, input_length=max_len))\n",
        "  model.add(SimpleRNN(64, return_sequences=True))\n",
        "  model.add(Dense(len(tokenizer_fr.word_index) + 1, activation='softmax'))\n",
        "\n",
        "  # Compile the model\n",
        "  model.compile(optimizer='adam', loss='sparse_categorical_crossentropy', metrics=['accuracy'])\n",
        "  return model"
      ]
    },
    {
      "cell_type": "code",
      "execution_count": 41,
      "metadata": {
        "colab": {
          "base_uri": "https://localhost:8080/"
        },
        "id": "w473VlYnb1sd",
        "outputId": "a61bfe6f-7711-4344-f829-d3448e1bc77a"
      },
      "outputs": [
        {
          "name": "stdout",
          "output_type": "stream",
          "text": [
            "Epoch 1/10\n",
            "151/151 [==============================] - 85s 552ms/step - loss: 3.5048 - accuracy: 0.8795 - val_loss: 1.1226 - val_accuracy: 0.8945\n",
            "Epoch 2/10\n",
            "151/151 [==============================] - 69s 455ms/step - loss: 1.2081 - accuracy: 0.8918 - val_loss: 1.2799 - val_accuracy: 0.8873\n",
            "Epoch 3/10\n",
            "151/151 [==============================] - 73s 484ms/step - loss: 1.4180 - accuracy: 0.8824 - val_loss: 1.4270 - val_accuracy: 0.8759\n",
            "Epoch 4/10\n",
            "151/151 [==============================] - 64s 427ms/step - loss: 0.8933 - accuracy: 0.8969 - val_loss: 0.8564 - val_accuracy: 0.8944\n",
            "Epoch 5/10\n",
            "151/151 [==============================] - 78s 515ms/step - loss: 0.8085 - accuracy: 0.8976 - val_loss: 0.8392 - val_accuracy: 0.8946\n",
            "Epoch 6/10\n",
            "151/151 [==============================] - 73s 486ms/step - loss: 0.7956 - accuracy: 0.8982 - val_loss: 0.8356 - val_accuracy: 0.8950\n",
            "Epoch 7/10\n",
            "151/151 [==============================] - 70s 464ms/step - loss: 0.7891 - accuracy: 0.8986 - val_loss: 0.8347 - val_accuracy: 0.8952\n",
            "Epoch 8/10\n",
            "151/151 [==============================] - 76s 503ms/step - loss: 0.7836 - accuracy: 0.8989 - val_loss: 0.8350 - val_accuracy: 0.8951\n",
            "Epoch 9/10\n",
            "151/151 [==============================] - 72s 476ms/step - loss: 0.7783 - accuracy: 0.8993 - val_loss: 0.8349 - val_accuracy: 0.8954\n",
            "Epoch 10/10\n",
            "151/151 [==============================] - 69s 460ms/step - loss: 0.7727 - accuracy: 0.8997 - val_loss: 0.8357 - val_accuracy: 0.8953\n"
          ]
        },
        {
          "data": {
            "text/plain": [
              "<keras.src.callbacks.History at 0x7d0229844070>"
            ]
          },
          "execution_count": 41,
          "metadata": {},
          "output_type": "execute_result"
        }
      ],
      "source": [
        "%%time\n",
        "\n",
        "# Testing simple RNN\n",
        "\n",
        "simple_rnn_instance = simple_rnn(tokenizer_en=tokenizer_en, tokenizer_fr=tokenizer_fr)\n",
        "simple_rnn_instance.fit(trainX, trainY, epochs=10, validation_data=(testX, testY), batch_size=64)"
      ]
    },
    {
      "cell_type": "code",
      "execution_count": 44,
      "metadata": {
        "colab": {
          "base_uri": "https://localhost:8080/"
        },
        "id": "I3HUxhPgev4D",
        "outputId": "10b2d72c-db0a-4175-9b4d-17808f7e4c4d"
      },
      "outputs": [
        {
          "name": "stdout",
          "output_type": "stream",
          "text": [
            "1/1 [==============================] - 0s 235ms/step\n",
            "Input (English): you spend only a portion of your year in morocco\n",
            "Predicted (French): le que a a de de de de de\n",
            "Ground Truth (French): vous ne passez quune partie de lannee au maroc\n",
            "1/1 [==============================] - 0s 56ms/step\n",
            "Input (English): what do you do the rest of the time\n",
            "Predicted (French): le le le la la\n",
            "Ground Truth (French): que faitesvous le reste du temps\n",
            "1/1 [==============================] - 0s 58ms/step\n",
            "Input (English): what do you do to relax\n",
            "Predicted (French): le le le la de\n",
            "Ground Truth (French): comment vous detendezvous\n"
          ]
        }
      ],
      "source": [
        "# Predicting with simple RNN (First 3 Test Samples)\n",
        "for i in range(3):\n",
        "    predict_and_compare(index=i, testX=testX, model=simple_rnn_instance, tokenizer_en=tokenizer_en, tokenizer_fr=tokenizer_fr)"
      ]
    },
    {
      "cell_type": "markdown",
      "metadata": {
        "id": "YD5Uu6QDWVDI"
      },
      "source": [
        "____________________________________________________________"
      ]
    },
    {
      "cell_type": "code",
      "execution_count": null,
      "metadata": {
        "id": "eUiV0wpclv_l"
      },
      "outputs": [],
      "source": [
        "# End of notebook"
      ]
    }
  ],
  "metadata": {
    "accelerator": "GPU",
    "colab": {
      "gpuType": "T4",
      "provenance": []
    },
    "kernelspec": {
      "display_name": "Python 3",
      "name": "python3"
    },
    "language_info": {
      "codemirror_mode": {
        "name": "ipython",
        "version": 3
      },
      "file_extension": ".py",
      "mimetype": "text/x-python",
      "name": "python",
      "nbconvert_exporter": "python",
      "pygments_lexer": "ipython3",
      "version": "3.9.18"
    }
  },
  "nbformat": 4,
  "nbformat_minor": 0
}
