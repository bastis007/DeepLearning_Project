{
 "cells": [
  {
   "cell_type": "markdown",
   "metadata": {
    "id": "3KlsWlLqiWih"
   },
   "source": [
    "# Pre-Processing Pipeline\n",
    "\n",
    "**Author:** Felipe Cortes Jaramillo\n",
    "\n",
    "**Description:** Pre-processing pipeline for text translation.\n",
    "\n",
    "**References:** https://github.com/tommytracey/AIND-Capstone/blob/master/machine_translation.ipynb"
   ]
  },
  {
   "cell_type": "markdown",
   "metadata": {
    "id": "KO5vkfQLo4ZD"
   },
   "source": [
    "## Installing Packages and Downloading Data:"
   ]
  },
  {
   "cell_type": "code",
   "execution_count": 19,
   "metadata": {
    "colab": {
     "base_uri": "https://localhost:8080/"
    },
    "id": "xY0tW5-RfibX",
    "outputId": "355c76c2-85b3-41da-a5f5-b40c402dfe63",
    "ExecuteTime": {
     "end_time": "2023-12-17T16:33:02.969290Z",
     "start_time": "2023-12-17T16:33:01.690124Z"
    }
   },
   "outputs": [
    {
     "name": "stdout",
     "output_type": "stream",
     "text": [
      "Requirement already satisfied: datasets in /Users/schaefer.bastian/miniconda3/envs/DeepLearning_Project/lib/python3.10/site-packages (2.15.0)\r\n",
      "Requirement already satisfied: pandas in /Users/schaefer.bastian/miniconda3/envs/DeepLearning_Project/lib/python3.10/site-packages (2.1.3)\r\n",
      "Requirement already satisfied: nltk in /Users/schaefer.bastian/miniconda3/envs/DeepLearning_Project/lib/python3.10/site-packages (3.8.1)\r\n",
      "Requirement already satisfied: clean-text in /Users/schaefer.bastian/miniconda3/envs/DeepLearning_Project/lib/python3.10/site-packages (0.6.0)\r\n",
      "Requirement already satisfied: numpy>=1.17 in /Users/schaefer.bastian/miniconda3/envs/DeepLearning_Project/lib/python3.10/site-packages (from datasets) (1.26.2)\r\n",
      "Requirement already satisfied: pyarrow>=8.0.0 in /Users/schaefer.bastian/miniconda3/envs/DeepLearning_Project/lib/python3.10/site-packages (from datasets) (14.0.1)\r\n",
      "Requirement already satisfied: pyarrow-hotfix in /Users/schaefer.bastian/miniconda3/envs/DeepLearning_Project/lib/python3.10/site-packages (from datasets) (0.6)\r\n",
      "Requirement already satisfied: dill<0.3.8,>=0.3.0 in /Users/schaefer.bastian/miniconda3/envs/DeepLearning_Project/lib/python3.10/site-packages (from datasets) (0.3.7)\r\n",
      "Requirement already satisfied: requests>=2.19.0 in /Users/schaefer.bastian/miniconda3/envs/DeepLearning_Project/lib/python3.10/site-packages (from datasets) (2.31.0)\r\n",
      "Requirement already satisfied: tqdm>=4.62.1 in /Users/schaefer.bastian/miniconda3/envs/DeepLearning_Project/lib/python3.10/site-packages (from datasets) (4.66.1)\r\n",
      "Requirement already satisfied: xxhash in /Users/schaefer.bastian/miniconda3/envs/DeepLearning_Project/lib/python3.10/site-packages (from datasets) (3.4.1)\r\n",
      "Requirement already satisfied: multiprocess in /Users/schaefer.bastian/miniconda3/envs/DeepLearning_Project/lib/python3.10/site-packages (from datasets) (0.70.15)\r\n",
      "Requirement already satisfied: fsspec<=2023.10.0,>=2023.1.0 in /Users/schaefer.bastian/miniconda3/envs/DeepLearning_Project/lib/python3.10/site-packages (from fsspec[http]<=2023.10.0,>=2023.1.0->datasets) (2023.10.0)\r\n",
      "Requirement already satisfied: aiohttp in /Users/schaefer.bastian/miniconda3/envs/DeepLearning_Project/lib/python3.10/site-packages (from datasets) (3.9.1)\r\n",
      "Requirement already satisfied: huggingface-hub>=0.18.0 in /Users/schaefer.bastian/miniconda3/envs/DeepLearning_Project/lib/python3.10/site-packages (from datasets) (0.19.4)\r\n",
      "Requirement already satisfied: packaging in /Users/schaefer.bastian/miniconda3/envs/DeepLearning_Project/lib/python3.10/site-packages (from datasets) (23.2)\r\n",
      "Requirement already satisfied: pyyaml>=5.1 in /Users/schaefer.bastian/miniconda3/envs/DeepLearning_Project/lib/python3.10/site-packages (from datasets) (6.0.1)\r\n",
      "Requirement already satisfied: python-dateutil>=2.8.2 in /Users/schaefer.bastian/miniconda3/envs/DeepLearning_Project/lib/python3.10/site-packages (from pandas) (2.8.2)\r\n",
      "Requirement already satisfied: pytz>=2020.1 in /Users/schaefer.bastian/miniconda3/envs/DeepLearning_Project/lib/python3.10/site-packages (from pandas) (2023.3.post1)\r\n",
      "Requirement already satisfied: tzdata>=2022.1 in /Users/schaefer.bastian/miniconda3/envs/DeepLearning_Project/lib/python3.10/site-packages (from pandas) (2023.3)\r\n",
      "Requirement already satisfied: click in /Users/schaefer.bastian/miniconda3/envs/DeepLearning_Project/lib/python3.10/site-packages (from nltk) (8.1.7)\r\n",
      "Requirement already satisfied: joblib in /Users/schaefer.bastian/miniconda3/envs/DeepLearning_Project/lib/python3.10/site-packages (from nltk) (1.3.2)\r\n",
      "Requirement already satisfied: regex>=2021.8.3 in /Users/schaefer.bastian/miniconda3/envs/DeepLearning_Project/lib/python3.10/site-packages (from nltk) (2023.10.3)\r\n",
      "Requirement already satisfied: emoji<2.0.0,>=1.0.0 in /Users/schaefer.bastian/miniconda3/envs/DeepLearning_Project/lib/python3.10/site-packages (from clean-text) (1.7.0)\r\n",
      "Requirement already satisfied: ftfy<7.0,>=6.0 in /Users/schaefer.bastian/miniconda3/envs/DeepLearning_Project/lib/python3.10/site-packages (from clean-text) (6.1.3)\r\n",
      "Requirement already satisfied: attrs>=17.3.0 in /Users/schaefer.bastian/miniconda3/envs/DeepLearning_Project/lib/python3.10/site-packages (from aiohttp->datasets) (23.1.0)\r\n",
      "Requirement already satisfied: multidict<7.0,>=4.5 in /Users/schaefer.bastian/miniconda3/envs/DeepLearning_Project/lib/python3.10/site-packages (from aiohttp->datasets) (6.0.4)\r\n",
      "Requirement already satisfied: yarl<2.0,>=1.0 in /Users/schaefer.bastian/miniconda3/envs/DeepLearning_Project/lib/python3.10/site-packages (from aiohttp->datasets) (1.9.3)\r\n",
      "Requirement already satisfied: frozenlist>=1.1.1 in /Users/schaefer.bastian/miniconda3/envs/DeepLearning_Project/lib/python3.10/site-packages (from aiohttp->datasets) (1.4.0)\r\n",
      "Requirement already satisfied: aiosignal>=1.1.2 in /Users/schaefer.bastian/miniconda3/envs/DeepLearning_Project/lib/python3.10/site-packages (from aiohttp->datasets) (1.3.1)\r\n",
      "Requirement already satisfied: async-timeout<5.0,>=4.0 in /Users/schaefer.bastian/miniconda3/envs/DeepLearning_Project/lib/python3.10/site-packages (from aiohttp->datasets) (4.0.3)\r\n",
      "Requirement already satisfied: wcwidth<0.3.0,>=0.2.12 in /Users/schaefer.bastian/miniconda3/envs/DeepLearning_Project/lib/python3.10/site-packages (from ftfy<7.0,>=6.0->clean-text) (0.2.12)\r\n",
      "Requirement already satisfied: filelock in /Users/schaefer.bastian/miniconda3/envs/DeepLearning_Project/lib/python3.10/site-packages (from huggingface-hub>=0.18.0->datasets) (3.13.1)\r\n",
      "Requirement already satisfied: typing-extensions>=3.7.4.3 in /Users/schaefer.bastian/miniconda3/envs/DeepLearning_Project/lib/python3.10/site-packages (from huggingface-hub>=0.18.0->datasets) (4.8.0)\r\n",
      "Requirement already satisfied: six>=1.5 in /Users/schaefer.bastian/miniconda3/envs/DeepLearning_Project/lib/python3.10/site-packages (from python-dateutil>=2.8.2->pandas) (1.16.0)\r\n",
      "Requirement already satisfied: charset-normalizer<4,>=2 in /Users/schaefer.bastian/miniconda3/envs/DeepLearning_Project/lib/python3.10/site-packages (from requests>=2.19.0->datasets) (3.3.2)\r\n",
      "Requirement already satisfied: idna<4,>=2.5 in /Users/schaefer.bastian/miniconda3/envs/DeepLearning_Project/lib/python3.10/site-packages (from requests>=2.19.0->datasets) (3.6)\r\n",
      "Requirement already satisfied: urllib3<3,>=1.21.1 in /Users/schaefer.bastian/miniconda3/envs/DeepLearning_Project/lib/python3.10/site-packages (from requests>=2.19.0->datasets) (2.1.0)\r\n",
      "Requirement already satisfied: certifi>=2017.4.17 in /Users/schaefer.bastian/miniconda3/envs/DeepLearning_Project/lib/python3.10/site-packages (from requests>=2.19.0->datasets) (2023.11.17)\r\n"
     ]
    }
   ],
   "source": [
    "# Install Hugging Face Library for Datasets\n",
    "!pip install datasets pandas nltk clean-text"
   ]
  },
  {
   "cell_type": "code",
   "execution_count": 20,
   "metadata": {
    "id": "0Yi1ZQkSgSF5",
    "ExecuteTime": {
     "end_time": "2023-12-17T16:33:04.438119Z",
     "start_time": "2023-12-17T16:33:04.426513Z"
    }
   },
   "outputs": [],
   "source": [
    "# Import needed libraries\n",
    "import pandas as pd\n",
    "import numpy as np\n",
    "from datasets import load_dataset\n",
    "\n",
    "import nltk\n",
    "from cleantext import clean\n",
    "from nltk.tokenize import word_tokenize\n",
    "\n",
    "import tensorflow as tf\n",
    "from keras.models import Sequential, Model\n",
    "from keras.layers import Embedding, Dense, GRU, LSTM, Bidirectional, Dropout, Input, Dense, Conv1D, MaxPool1D, Attention\n",
    "from keras.preprocessing.text import Tokenizer\n",
    "from keras_preprocessing.sequence import pad_sequences\n",
    "from keras_self_attention import SeqSelfAttention\n",
    "#from sklearn.model_selection import train_test_split"
   ]
  },
  {
   "cell_type": "code",
   "execution_count": 21,
   "metadata": {
    "ExecuteTime": {
     "end_time": "2023-12-17T16:33:06.044180Z",
     "start_time": "2023-12-17T16:33:06.040689Z"
    }
   },
   "outputs": [
    {
     "ename": "SystemError",
     "evalue": "GPU device not found",
     "output_type": "error",
     "traceback": [
      "\u001B[0;31m---------------------------------------------------------------------------\u001B[0m",
      "\u001B[0;31mSystemError\u001B[0m                               Traceback (most recent call last)",
      "Cell \u001B[0;32mIn[21], line 16\u001B[0m\n\u001B[1;32m     14\u001B[0m         \u001B[38;5;28mprint\u001B[39m(\u001B[38;5;124m\"\u001B[39m\u001B[38;5;124mRuntimeError:\u001B[39m\u001B[38;5;124m\"\u001B[39m, e)\n\u001B[1;32m     15\u001B[0m \u001B[38;5;28;01melse\u001B[39;00m:\n\u001B[0;32m---> 16\u001B[0m     \u001B[38;5;28;01mraise\u001B[39;00m \u001B[38;5;167;01mSystemError\u001B[39;00m(\u001B[38;5;124m\"\u001B[39m\u001B[38;5;124mGPU device not found\u001B[39m\u001B[38;5;124m\"\u001B[39m)\n",
      "\u001B[0;31mSystemError\u001B[0m: GPU device not found"
     ]
    }
   ],
   "source": [
    "# Check if TensorFlow is able to detect the GPU\n",
    "gpus = tf.config.experimental.list_physical_devices('GPU')\n",
    "if gpus:\n",
    "    try:\n",
    "        # Set TensorFlow to use only one GPU\n",
    "        tf.config.experimental.set_visible_devices(gpus[0], 'GPU')\n",
    "\n",
    "        # Enable memory growth\n",
    "        tf.config.experimental.set_memory_growth(gpus[0], True)\n",
    "\n",
    "        print(\"Using GPU:\", gpus[0])\n",
    "    except RuntimeError as e:\n",
    "        # Memory growth must be set at program startup\n",
    "        print(\"RuntimeError:\", e)\n",
    "else:\n",
    "    raise SystemError(\"GPU device not found\")"
   ]
  },
  {
   "cell_type": "code",
   "execution_count": 22,
   "metadata": {
    "colab": {
     "base_uri": "https://localhost:8080/",
     "height": 206
    },
    "id": "oK5js_c4gidk",
    "outputId": "edf107e2-384c-4ce4-a97f-7bffaa9b8ade",
    "ExecuteTime": {
     "end_time": "2023-12-17T16:33:09.292734Z",
     "start_time": "2023-12-17T16:33:06.859552Z"
    }
   },
   "outputs": [
    {
     "data": {
      "text/plain": "                                                  en  \\\n0                                Jamaica: “I am HIV”   \n1  It's widely acknowledged, in the Caribbean and...   \n2  For this woman, however, photographed in the s...   \n3                       As Bacon writes on her blog:   \n4  “When I asked to take her picture, I suggested...   \n\n                                                  fr  \n0                             Jamaïque : J’ai le VIH  \n1  Il est largement reconnu, dans les Caraïbes et...  \n2  Pour cette femme, cependant, photographiée dan...  \n3                    Comme Bacon écrit sur son blog:  \n4  “Quand je lui ai demandé de la prendre en phot...  ",
      "text/html": "<div>\n<style scoped>\n    .dataframe tbody tr th:only-of-type {\n        vertical-align: middle;\n    }\n\n    .dataframe tbody tr th {\n        vertical-align: top;\n    }\n\n    .dataframe thead th {\n        text-align: right;\n    }\n</style>\n<table border=\"1\" class=\"dataframe\">\n  <thead>\n    <tr style=\"text-align: right;\">\n      <th></th>\n      <th>en</th>\n      <th>fr</th>\n    </tr>\n  </thead>\n  <tbody>\n    <tr>\n      <th>0</th>\n      <td>Jamaica: “I am HIV”</td>\n      <td>Jamaïque : J’ai le VIH</td>\n    </tr>\n    <tr>\n      <th>1</th>\n      <td>It's widely acknowledged, in the Caribbean and...</td>\n      <td>Il est largement reconnu, dans les Caraïbes et...</td>\n    </tr>\n    <tr>\n      <th>2</th>\n      <td>For this woman, however, photographed in the s...</td>\n      <td>Pour cette femme, cependant, photographiée dan...</td>\n    </tr>\n    <tr>\n      <th>3</th>\n      <td>As Bacon writes on her blog:</td>\n      <td>Comme Bacon écrit sur son blog:</td>\n    </tr>\n    <tr>\n      <th>4</th>\n      <td>“When I asked to take her picture, I suggested...</td>\n      <td>“Quand je lui ai demandé de la prendre en phot...</td>\n    </tr>\n  </tbody>\n</table>\n</div>"
     },
     "execution_count": 22,
     "metadata": {},
     "output_type": "execute_result"
    }
   ],
   "source": [
    "# Extract dataset\n",
    "translation_dataset = load_dataset('Nicolas-BZRD/Parallel_Global_Voices_English_French',\n",
    "                                   split='train').to_pandas()\n",
    "translation_dataset.head(5)"
   ]
  },
  {
   "cell_type": "code",
   "execution_count": 23,
   "metadata": {
    "id": "Q1JjGsN5Ym3P",
    "ExecuteTime": {
     "end_time": "2023-12-17T16:33:09.298895Z",
     "start_time": "2023-12-17T16:33:09.297377Z"
    }
   },
   "outputs": [],
   "source": [
    "# Remove line when finishied (OPTIONAL)\n",
    "df = translation_dataset.head(8060)"
   ]
  },
  {
   "cell_type": "markdown",
   "metadata": {
    "id": "f0A33mW3pEPH"
   },
   "source": [
    "## Data Pre-processing:"
   ]
  },
  {
   "cell_type": "code",
   "execution_count": 24,
   "metadata": {
    "colab": {
     "base_uri": "https://localhost:8080/"
    },
    "id": "V1VsvJZgWW9P",
    "outputId": "a1a1828b-79dd-44a3-fbe6-9d3de62d9a9c",
    "ExecuteTime": {
     "end_time": "2023-12-17T16:33:12.519233Z",
     "start_time": "2023-12-17T16:33:09.362792Z"
    }
   },
   "outputs": [
    {
     "name": "stderr",
     "output_type": "stream",
     "text": [
      "[nltk_data] Downloading package punkt to\n",
      "[nltk_data]     /Users/schaefer.bastian/nltk_data...\n",
      "[nltk_data]   Package punkt is already up-to-date!\n",
      "/var/folders/p9/q_n4s9cj6m15m7f_8tvsd0380000gn/T/ipykernel_15492/1249602603.py:30: SettingWithCopyWarning: \n",
      "A value is trying to be set on a copy of a slice from a DataFrame.\n",
      "Try using .loc[row_indexer,col_indexer] = value instead\n",
      "\n",
      "See the caveats in the documentation: https://pandas.pydata.org/pandas-docs/stable/user_guide/indexing.html#returning-a-view-versus-a-copy\n",
      "  df['en'] = df['en'].apply(clean_text)\n",
      "/var/folders/p9/q_n4s9cj6m15m7f_8tvsd0380000gn/T/ipykernel_15492/1249602603.py:31: SettingWithCopyWarning: \n",
      "A value is trying to be set on a copy of a slice from a DataFrame.\n",
      "Try using .loc[row_indexer,col_indexer] = value instead\n",
      "\n",
      "See the caveats in the documentation: https://pandas.pydata.org/pandas-docs/stable/user_guide/indexing.html#returning-a-view-versus-a-copy\n",
      "  df['fr'] = df['fr'].apply(clean_text)\n",
      "/var/folders/p9/q_n4s9cj6m15m7f_8tvsd0380000gn/T/ipykernel_15492/1249602603.py:34: SettingWithCopyWarning: \n",
      "A value is trying to be set on a copy of a slice from a DataFrame.\n",
      "Try using .loc[row_indexer,col_indexer] = value instead\n",
      "\n",
      "See the caveats in the documentation: https://pandas.pydata.org/pandas-docs/stable/user_guide/indexing.html#returning-a-view-versus-a-copy\n",
      "  df['en_tokens'] = df['en'].apply(word_tokenize)\n",
      "/var/folders/p9/q_n4s9cj6m15m7f_8tvsd0380000gn/T/ipykernel_15492/1249602603.py:35: SettingWithCopyWarning: \n",
      "A value is trying to be set on a copy of a slice from a DataFrame.\n",
      "Try using .loc[row_indexer,col_indexer] = value instead\n",
      "\n",
      "See the caveats in the documentation: https://pandas.pydata.org/pandas-docs/stable/user_guide/indexing.html#returning-a-view-versus-a-copy\n",
      "  df['fr_tokens'] = df['fr'].apply(word_tokenize)\n",
      "/var/folders/p9/q_n4s9cj6m15m7f_8tvsd0380000gn/T/ipykernel_15492/1249602603.py:38: SettingWithCopyWarning: \n",
      "A value is trying to be set on a copy of a slice from a DataFrame\n",
      "\n",
      "See the caveats in the documentation: https://pandas.pydata.org/pandas-docs/stable/user_guide/indexing.html#returning-a-view-versus-a-copy\n",
      "  df.dropna(subset=['en', 'fr'], inplace=True)\n"
     ]
    }
   ],
   "source": [
    "# First step - Data Pre-processing\n",
    "\n",
    "# nltk downloads\n",
    "nltk.download('punkt')\n",
    "\n",
    "# Define a cleaning function\n",
    "def clean_text(text):\n",
    "    return clean(text,\n",
    "                 fix_unicode=True,               # fix various unicode errors\n",
    "                 to_ascii=True,                  # transliterate to closest ASCII representation\n",
    "                 lower=True,                     # lowercase text\n",
    "                 no_line_breaks=False,           # fully strip line breaks as opposed to only normalizing them\n",
    "                 no_urls=True,                   # replace all URLs with a special token\n",
    "                 no_emails=True,                 # replace all email addresses with a special token\n",
    "                 no_phone_numbers=True,          # replace all phone numbers with a special token\n",
    "                 no_numbers=False,               # replace all numbers with a special token\n",
    "                 no_digits=False,                # replace all digits with a special token\n",
    "                 no_currency_symbols=True,       # replace all currency symbols with a special token\n",
    "                 no_punct=True,                  # remove punctuations\n",
    "                 replace_with_punct=\"\",          # replace punctuations with this character\n",
    "                 replace_with_url=\"<URL>\",\n",
    "                 replace_with_email=\"<EMAIL>\",\n",
    "                 replace_with_phone_number=\"<PHONE>\",\n",
    "                 replace_with_number=\"<NUMBER>\",\n",
    "                 replace_with_digit=\"<DIGIT>\",\n",
    "                 replace_with_currency_symbol=\"<CUR>\",\n",
    "                 lang=\"en\")\n",
    "\n",
    "# Apply cleaning function to both English and French columns\n",
    "df['en'] = df['en'].apply(clean_text)\n",
    "df['fr'] = df['fr'].apply(clean_text)\n",
    "\n",
    "# Tokenization\n",
    "df['en_tokens'] = df['en'].apply(word_tokenize)\n",
    "df['fr_tokens'] = df['fr'].apply(word_tokenize)\n",
    "\n",
    "# Handling missing data\n",
    "df.dropna(subset=['en', 'fr'], inplace=True)\n",
    "\n",
    "# Save the preprocessed data\n",
    "df.to_csv('preprocessed_data.csv', index=False)"
   ]
  },
  {
   "cell_type": "code",
   "execution_count": 25,
   "metadata": {
    "id": "dknJrE0jY49t",
    "ExecuteTime": {
     "end_time": "2023-12-17T16:33:13.859728Z",
     "start_time": "2023-12-17T16:33:13.613134Z"
    }
   },
   "outputs": [],
   "source": [
    "# Second step - Data Transformation for Training\n",
    "\n",
    "# Tokenization\n",
    "tokenizer_en = Tokenizer()\n",
    "tokenizer_en.fit_on_texts(df['en_tokens'])\n",
    "tokenizer_fr = Tokenizer()\n",
    "tokenizer_fr.fit_on_texts(df['fr_tokens'])\n",
    "\n",
    "# Convert text to sequences\n",
    "sequences_en = tokenizer_en.texts_to_sequences(df['en_tokens'])\n",
    "sequences_fr = tokenizer_fr.texts_to_sequences(df['fr_tokens'])\n",
    "\n",
    "# Padding sequences\n",
    "max_len = max(max(len(s) for s in sequences_en), max(len(s) for s in sequences_fr))\n",
    "sequences_en = pad_sequences(sequences_en, maxlen=max_len, padding='post')\n",
    "sequences_fr = pad_sequences(sequences_fr, maxlen=max_len, padding='post')\n",
    "\n",
    "# Splitting the data\n",
    "split = int(len(sequences_en) * 0.8)\n",
    "trainX, testX = sequences_en[:split], sequences_en[split:]\n",
    "trainY, testY = sequences_fr[:split], sequences_fr[split:]\n"
   ]
  },
  {
   "cell_type": "code",
   "execution_count": 26,
   "metadata": {
    "id": "kseUIUXIb45Y",
    "ExecuteTime": {
     "end_time": "2023-12-17T16:33:15.389318Z",
     "start_time": "2023-12-17T16:33:15.375521Z"
    }
   },
   "outputs": [],
   "source": [
    "# Third step - Reshape data for feeding into model (French words)\n",
    "trainY = trainY.reshape(trainY.shape[0], trainY.shape[1], 1)\n",
    "testY = testY.reshape(testY.shape[0], testY.shape[1], 1)"
   ]
  },
  {
   "cell_type": "code",
   "execution_count": 27,
   "metadata": {
    "id": "5ANTSUdAl1_5",
    "ExecuteTime": {
     "end_time": "2023-12-17T16:33:16.136403Z",
     "start_time": "2023-12-17T16:33:16.123996Z"
    }
   },
   "outputs": [
    {
     "name": "stdout",
     "output_type": "stream",
     "text": [
      "<--- Data Preprocessed Summary: --->\n",
      "Max English sentence length: 121\n",
      "Max French sentence length: 121\n",
      "English vocabulary size: 16633\n",
      "French vocabulary size: 20821\n"
     ]
    }
   ],
   "source": [
    "# Fourth Step - Some relevant information after pre-processing and transforming\n",
    "max_english_sequence_length = sequences_en.shape[1]\n",
    "max_french_sequence_length = sequences_fr.shape[1]\n",
    "english_vocab_size = len(tokenizer_en.word_index)\n",
    "french_vocab_size = len(tokenizer_fr.word_index)\n",
    "\n",
    "print('<--- Data Preprocessed Summary: --->')\n",
    "print(\"Max English sentence length:\", max_english_sequence_length)\n",
    "print(\"Max French sentence length:\", max_french_sequence_length)\n",
    "print(\"English vocabulary size:\", english_vocab_size)\n",
    "print(\"French vocabulary size:\", french_vocab_size)"
   ]
  },
  {
   "cell_type": "markdown",
   "metadata": {
    "id": "E2QXSWTSi854"
   },
   "source": [
    "----------------------------------------------------------"
   ]
  },
  {
   "cell_type": "code",
   "execution_count": 28,
   "metadata": {
    "id": "dQ1U5Y68eWdW",
    "ExecuteTime": {
     "end_time": "2023-12-17T16:33:17.939823Z",
     "start_time": "2023-12-17T16:33:17.933416Z"
    }
   },
   "outputs": [],
   "source": [
    "# Testing Module - Models\n",
    "\n",
    "def translate_sequence(seq, tokenizer):\n",
    "    \"\"\" Translates a sequence of integers back into text using the tokenizer. \"\"\"\n",
    "    words = [tokenizer.index_word.get(idx, '') for idx in seq]\n",
    "    return ' '.join(words).strip()\n",
    "\n",
    "def predict_and_compare(index, testX, model, tokenizer_en, tokenizer_fr):\n",
    "    \"\"\" Predicts translation for a given index in the test set and compares with the ground truth. \"\"\"\n",
    "    input_seq = testX[index:index+1]\n",
    "    prediction = model.predict(input_seq)\n",
    "\n",
    "    # Converting the prediction to a sequence of integers\n",
    "    predicted_seq = np.argmax(prediction, axis=-1)[0]\n",
    "\n",
    "    # Reverse tokenization (converting sequences back to words)\n",
    "    input_text = translate_sequence(input_seq[0], tokenizer_en)\n",
    "    predicted_text = translate_sequence(predicted_seq, tokenizer_fr)\n",
    "    ground_truth_text = translate_sequence(testY[index].flatten(), tokenizer_fr)\n",
    "\n",
    "    print(\"Input (English):\", input_text)\n",
    "    print(\"Predicted (French):\", predicted_text)\n",
    "    print(\"Ground Truth (French):\", ground_truth_text)"
   ]
  },
  {
   "cell_type": "code",
   "execution_count": 32,
   "metadata": {
    "id": "IiyExGsibDRF",
    "ExecuteTime": {
     "end_time": "2023-12-17T16:57:57.503497Z",
     "start_time": "2023-12-17T16:57:57.490890Z"
    }
   },
   "outputs": [],
   "source": [
    "# Model Section - First Model RNN\n",
    "\n",
    "def simple_san(tokenizer_en, tokenizer_fr):\n",
    "\n",
    "  # Define structure of the model\n",
    "  model = Sequential()\n",
    "  model.add(Embedding(input_dim=len(tokenizer_en.word_index) + 1, output_dim=64, input_length=max_len))\n",
    "  model.add(SeqSelfAttention(attention_width=15,attention_activation='sigmoid'))\n",
    "  model.add(Dense(len(tokenizer_fr.word_index) + 1, activation='softmax'))\n",
    "\n",
    "  # Compile the model\n",
    "  model.compile(optimizer='adam', loss='sparse_categorical_crossentropy', metrics=['accuracy'])\n",
    "  return model"
   ]
  },
  {
   "cell_type": "code",
   "execution_count": 33,
   "metadata": {
    "colab": {
     "base_uri": "https://localhost:8080/"
    },
    "id": "w473VlYnb1sd",
    "outputId": "a61bfe6f-7711-4344-f829-d3448e1bc77a",
    "ExecuteTime": {
     "end_time": "2023-12-17T17:11:03.569245Z",
     "start_time": "2023-12-17T16:57:59.248811Z"
    }
   },
   "outputs": [
    {
     "name": "stdout",
     "output_type": "stream",
     "text": [
      "Epoch 1/10\n"
     ]
    },
    {
     "name": "stderr",
     "output_type": "stream",
     "text": [
      "/Users/schaefer.bastian/miniconda3/envs/DeepLearning_Project/lib/python3.10/site-packages/keras/src/initializers/initializers.py:120: UserWarning: The initializer GlorotNormal is unseeded and being called multiple times, which will return identical values each time (even if the initializer is unseeded). Please update your code to provide a seed to the initializer, or avoid using the same initializer instance more than once.\n",
      "  warnings.warn(\n"
     ]
    },
    {
     "name": "stdout",
     "output_type": "stream",
     "text": [
      "101/101 [==============================] - 75s 734ms/step - loss: 9.2773 - accuracy: 0.4394 - val_loss: 7.8075 - val_accuracy: 0.0083\n",
      "Epoch 2/10\n",
      "101/101 [==============================] - 76s 756ms/step - loss: 4.8508 - accuracy: 0.5097 - val_loss: 1.9294 - val_accuracy: 0.8247\n",
      "Epoch 3/10\n",
      "101/101 [==============================] - 78s 770ms/step - loss: 1.5914 - accuracy: 0.8253 - val_loss: 1.5327 - val_accuracy: 0.8247\n",
      "Epoch 4/10\n",
      "101/101 [==============================] - 79s 778ms/step - loss: 1.4833 - accuracy: 0.8253 - val_loss: 1.4972 - val_accuracy: 0.8247\n",
      "Epoch 5/10\n",
      "101/101 [==============================] - 78s 778ms/step - loss: 1.4509 - accuracy: 0.8253 - val_loss: 1.4798 - val_accuracy: 0.8247\n",
      "Epoch 6/10\n",
      "101/101 [==============================] - 79s 786ms/step - loss: 1.4299 - accuracy: 0.8253 - val_loss: 1.4673 - val_accuracy: 0.8247\n",
      "Epoch 7/10\n",
      "101/101 [==============================] - 79s 784ms/step - loss: 1.4117 - accuracy: 0.8253 - val_loss: 1.4545 - val_accuracy: 0.8247\n",
      "Epoch 8/10\n",
      "101/101 [==============================] - 80s 793ms/step - loss: 1.3922 - accuracy: 0.8253 - val_loss: 1.4393 - val_accuracy: 0.8247\n",
      "Epoch 9/10\n",
      "101/101 [==============================] - 80s 791ms/step - loss: 1.3717 - accuracy: 0.8253 - val_loss: 1.4249 - val_accuracy: 0.8247\n",
      "Epoch 10/10\n",
      "101/101 [==============================] - 80s 794ms/step - loss: 1.3539 - accuracy: 0.8254 - val_loss: 1.4150 - val_accuracy: 0.8255\n",
      "CPU times: user 1h 17min 20s, sys: 9min 36s, total: 1h 26min 56s\n",
      "Wall time: 13min 4s\n"
     ]
    },
    {
     "data": {
      "text/plain": "<keras.src.callbacks.History at 0x2f1861720>"
     },
     "execution_count": 33,
     "metadata": {},
     "output_type": "execute_result"
    }
   ],
   "source": [
    "%%time\n",
    "\n",
    "# Testing simple RNN\n",
    "\n",
    "simple_san_instance = simple_san(tokenizer_en=tokenizer_en, tokenizer_fr=tokenizer_fr)\n",
    "simple_san_instance.fit(trainX, trainY, epochs=10, validation_data=(testX, testY), batch_size=64)"
   ]
  },
  {
   "cell_type": "code",
   "execution_count": 34,
   "metadata": {
    "colab": {
     "base_uri": "https://localhost:8080/"
    },
    "id": "I3HUxhPgev4D",
    "outputId": "10b2d72c-db0a-4175-9b4d-17808f7e4c4d",
    "ExecuteTime": {
     "end_time": "2023-12-17T17:11:29.899103Z",
     "start_time": "2023-12-17T17:11:29.746667Z"
    }
   },
   "outputs": [
    {
     "name": "stdout",
     "output_type": "stream",
     "text": [
      "1/1 [==============================] - 0s 70ms/step\n",
      "Input (English): do you believe uganda has a free press\n",
      "Predicted (French): de\n",
      "Ground Truth (French): croyezvous que louganda a une presse libre\n",
      "1/1 [==============================] - 0s 15ms/step\n",
      "Input (English): a for the moment the traditional media are basically safe at least until the end of the commonwealth heads of government meeting in november\n",
      "Predicted (French): \n",
      "Ground Truth (French): a pour le moment les media traditionnels sont saufs au moins jusqua la fin de la reunion des chefs de gouvernement du commonwealth en novembre\n",
      "1/1 [==============================] - 0s 14ms/step\n",
      "Input (English): but the cracks have already started to appear with upcountry radio stations in places like the toro region in western uganda being harassed for all kinds of things\n",
      "Predicted (French): de de de\n",
      "Ground Truth (French): mais les failles ont deja commence a apparaitre les stations de radio en place dans la region de toro dans louest de louganda sont harcelees pour toutes sortes de choses\n"
     ]
    }
   ],
   "source": [
    "# Predicting with simple RNN (First 3 Test Samples)\n",
    "for i in range(3):\n",
    "    predict_and_compare(index=i, testX=testX, model=simple_san_instance, tokenizer_en=tokenizer_en, tokenizer_fr=tokenizer_fr)"
   ]
  },
  {
   "cell_type": "markdown",
   "metadata": {
    "id": "YD5Uu6QDWVDI"
   },
   "source": [
    "____________________________________________________________"
   ]
  },
  {
   "cell_type": "code",
   "execution_count": null,
   "metadata": {
    "id": "eUiV0wpclv_l",
    "ExecuteTime": {
     "start_time": "2023-12-17T16:32:00.298951Z"
    }
   },
   "outputs": [],
   "source": [
    "# End of notebook"
   ]
  }
 ],
 "metadata": {
  "accelerator": "GPU",
  "colab": {
   "gpuType": "T4",
   "provenance": []
  },
  "kernelspec": {
   "name": "python3",
   "language": "python",
   "display_name": "Python 3 (ipykernel)"
  },
  "language_info": {
   "codemirror_mode": {
    "name": "ipython",
    "version": 3
   },
   "file_extension": ".py",
   "mimetype": "text/x-python",
   "name": "python",
   "nbconvert_exporter": "python",
   "pygments_lexer": "ipython3",
   "version": "3.9.18"
  }
 },
 "nbformat": 4,
 "nbformat_minor": 0
}
